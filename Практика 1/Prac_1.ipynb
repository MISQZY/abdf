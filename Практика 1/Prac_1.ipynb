{
 "cells": [
  {
   "cell_type": "markdown",
   "id": "04f91eb0",
   "metadata": {},
   "source": [
    "# Практическая работа № 1"
   ]
  },
  {
   "cell_type": "markdown",
   "id": "25f9348f",
   "metadata": {},
   "source": [
    "### Задание 2"
   ]
  },
  {
   "cell_type": "code",
   "execution_count": 2,
   "id": "c75cd3ed",
   "metadata": {},
   "outputs": [
    {
     "name": "stdout",
     "output_type": "stream",
     "text": [
      "Введите номер необходимой фигуры из списка ниже: \n",
      " 1.Треугольник\n",
      " 2.Прямоугольник\n",
      " 3.Круг\n",
      "2\n",
      "Введите сторону a:\n",
      "12\n",
      "Введите сторону b:\n",
      "5\n",
      "{'Прямоугольник': 60.0}\n"
     ]
    }
   ],
   "source": [
    "def main():\n",
    "    figure = int(input(\"Введите номер необходимой фигуры из списка ниже: \\n 1.Треугольник\\n 2.Прямоугольник\\n 3.Круг\\n\"))\n",
    "    result = {}\n",
    "    if figure == 1:\n",
    "        \n",
    "        a = float(input(\"Введите основание:\\n\"))\n",
    "        h = float(input(\"Введите высоту:\\n\"))\n",
    "        value = 0.5 * a * h\n",
    "        result.setdefault(\"Треугольник\", value)\n",
    "        return result\n",
    "    elif figure == 2:\n",
    "        a = float(input(\"Введите сторону a:\\n\"))\n",
    "        b = float(input(\"Введите сторону b:\\n\"))\n",
    "        value = a * b\n",
    "        result.setdefault(\"Прямоугольник\", value)\n",
    "        return result\n",
    "    elif figure == 3:\n",
    "        r = float(input(\"Введите радиус:\\n\"))\n",
    "        pi = 3.14 # Взято жесткое значение, т.к не указано нужно ли использовать библиотеки\n",
    "        value = pi*r**2\n",
    "        result.setdefault(\"Круг\", value)\n",
    "        return result\n",
    "    else:\n",
    "        print(\"Выберите фигуру из списка!\")\n",
    "        main()\n",
    "    \n",
    "if __name__ == \"__main__\":\n",
    "    print(main())"
   ]
  },
  {
   "cell_type": "markdown",
   "id": "2046f54c",
   "metadata": {},
   "source": [
    "### Задание 3"
   ]
  },
  {
   "cell_type": "code",
   "execution_count": 10,
   "id": "cf254d47",
   "metadata": {},
   "outputs": [
    {
     "name": "stdout",
     "output_type": "stream",
     "text": [
      "Введите значение A:\n",
      "2\n",
      "Введите значение B:\n",
      "3\n",
      "Укажите номер необходимой операции из списка ниже:\n",
      "\n",
      "    1. +\n",
      "\n",
      "    2. -\n",
      "\n",
      "    3. /\n",
      "\n",
      "    4. //\n",
      "\n",
      "    5. Модуль\n",
      "\n",
      "    6. Возведение в степень\n",
      "\n",
      "6\n",
      "Результат: 8.0\n"
     ]
    }
   ],
   "source": [
    "def main():\n",
    "    a = float(input(\"Введите значение A:\\n\"))\n",
    "    b = float(input(\"Введите значение B:\\n\"))\n",
    "    operation = int(input(\n",
    "\"\"\"Укажите номер необходимой операции из списка ниже:\\n\n",
    "    1. +\\n\n",
    "    2. -\\n\n",
    "    3. /\\n\n",
    "    4. //\\n\n",
    "    5. Модуль\\n\n",
    "    6. Возведение в степень\\n\n",
    "\"\"\"))\n",
    "    \n",
    "    match operation:\n",
    "        case 1:\n",
    "            return a+b\n",
    "        case 2:\n",
    "            return a-b\n",
    "        case 3:\n",
    "            return a/b\n",
    "        case 4:\n",
    "            return a//b\n",
    "        case 5:\n",
    "            return (abs(a), abs(b))\n",
    "        case 6:\n",
    "            return a**b\n",
    "        case _:\n",
    "            print(\"Укажите правильный номер операции!\")\n",
    "            main()\n",
    "            \n",
    "if __name__ == \"__main__\":\n",
    "    print(\"Результат: \" + str(main()))"
   ]
  },
  {
   "cell_type": "markdown",
   "id": "014accc1",
   "metadata": {},
   "source": [
    "### Задание 4"
   ]
  },
  {
   "cell_type": "code",
   "execution_count": 19,
   "id": "0dddfa77",
   "metadata": {},
   "outputs": [
    {
     "name": "stdout",
     "output_type": "stream",
     "text": [
      "Начинайте ввод значений\n",
      "5\n",
      "7\n",
      "-12\n",
      "Результат: 218\n"
     ]
    }
   ],
   "source": [
    "def main():\n",
    "    first_enter = True\n",
    "    summ = 0\n",
    "    quad_summ = 0\n",
    "    print(\"Начинайте ввод значений\")\n",
    "    while True:\n",
    "        if summ == 0 and first_enter is False:\n",
    "            return quad_summ\n",
    "        else:\n",
    "            first_enter = False\n",
    "            new_value = int(input())\n",
    "            summ += new_value\n",
    "            quad_summ += new_value**2\n",
    "\n",
    "\n",
    "if __name__ == \"__main__\":\n",
    "    print(\"Результат: \" + str(main()))    "
   ]
  },
  {
   "cell_type": "markdown",
   "id": "df8608a6",
   "metadata": {},
   "source": [
    "### Задание 5"
   ]
  },
  {
   "cell_type": "code",
   "execution_count": 25,
   "id": "f2bc4d7d",
   "metadata": {},
   "outputs": [
    {
     "name": "stdout",
     "output_type": "stream",
     "text": [
      "Результат: [1, 2, 2, 3, 3, 3, 4]\n"
     ]
    }
   ],
   "source": [
    "def main():\n",
    "    n = int(input(\"Введите N:\"))\n",
    "    values = []\n",
    "    for i in range(n):\n",
    "        for _ in range(i):\n",
    "            values.append(i)\n",
    "    return values[0:n]\n",
    "\n",
    "if __name__ == \"__main__\":\n",
    "    result = main()\n",
    "    print(\"Результат: \" + str(result))"
   ]
  },
  {
   "cell_type": "markdown",
   "id": "8e061c89",
   "metadata": {},
   "source": [
    "### Задание 6"
   ]
  },
  {
   "cell_type": "code",
   "execution_count": 8,
   "id": "e19acf2a",
   "metadata": {},
   "outputs": [
    {
     "name": "stdout",
     "output_type": "stream",
     "text": [
      "Результат: {'a': 17, 'b': 11, 'c': 17}\n"
     ]
    }
   ],
   "source": [
    "a = [1, 2, 3, 4, 2, 1, 3, 4, 5, 6, 5, 4, 3, 2]\n",
    "b = ['a', 'b', 'c', 'c', 'c', 'b', 'a', 'c', 'a', 'a', 'b', 'c', 'b', 'a']\n",
    "\n",
    "def main(a, b):\n",
    "    result = {}\n",
    "    for i in b:\n",
    "        if i not in result:\n",
    "            result[i] = 0 \n",
    "\n",
    "    for e in result:\n",
    "        for i in range(0, len(b)):\n",
    "            if b[i] == e:\n",
    "                result[e] += a[i]\n",
    "    return result\n",
    "\n",
    "\n",
    "if __name__ == \"__main__\":\n",
    "    print(\"Результат: \" + str(main(a, b)))  "
   ]
  },
  {
   "cell_type": "markdown",
   "id": "3c399fac",
   "metadata": {},
   "source": [
    "### Задание 7"
   ]
  },
  {
   "cell_type": "code",
   "execution_count": 3,
   "id": "7e05760a",
   "metadata": {},
   "outputs": [
    {
     "name": "stdout",
     "output_type": "stream",
     "text": [
      "{'data':        MedInc  HouseAge  AveRooms  AveBedrms  Population  AveOccup  Latitude  \\\n",
      "0      8.3252      41.0  6.984127   1.023810       322.0  2.555556     37.88   \n",
      "1      8.3014      21.0  6.238137   0.971880      2401.0  2.109842     37.86   \n",
      "2      7.2574      52.0  8.288136   1.073446       496.0  2.802260     37.85   \n",
      "3      5.6431      52.0  5.817352   1.073059       558.0  2.547945     37.85   \n",
      "4      3.8462      52.0  6.281853   1.081081       565.0  2.181467     37.85   \n",
      "...       ...       ...       ...        ...         ...       ...       ...   \n",
      "20635  1.5603      25.0  5.045455   1.133333       845.0  2.560606     39.48   \n",
      "20636  2.5568      18.0  6.114035   1.315789       356.0  3.122807     39.49   \n",
      "20637  1.7000      17.0  5.205543   1.120092      1007.0  2.325635     39.43   \n",
      "20638  1.8672      18.0  5.329513   1.171920       741.0  2.123209     39.43   \n",
      "20639  2.3886      16.0  5.254717   1.162264      1387.0  2.616981     39.37   \n",
      "\n",
      "       Longitude  \n",
      "0        -122.23  \n",
      "1        -122.22  \n",
      "2        -122.24  \n",
      "3        -122.25  \n",
      "4        -122.25  \n",
      "...          ...  \n",
      "20635    -121.09  \n",
      "20636    -121.21  \n",
      "20637    -121.22  \n",
      "20638    -121.32  \n",
      "20639    -121.24  \n",
      "\n",
      "[20640 rows x 8 columns], 'target': 0        4.526\n",
      "1        3.585\n",
      "2        3.521\n",
      "3        3.413\n",
      "4        3.422\n",
      "         ...  \n",
      "20635    0.781\n",
      "20636    0.771\n",
      "20637    0.923\n",
      "20638    0.847\n",
      "20639    0.894\n",
      "Name: MedHouseVal, Length: 20640, dtype: float64, 'frame':        MedInc  HouseAge  AveRooms  AveBedrms  Population  AveOccup  Latitude  \\\n",
      "0      8.3252      41.0  6.984127   1.023810       322.0  2.555556     37.88   \n",
      "1      8.3014      21.0  6.238137   0.971880      2401.0  2.109842     37.86   \n",
      "2      7.2574      52.0  8.288136   1.073446       496.0  2.802260     37.85   \n",
      "3      5.6431      52.0  5.817352   1.073059       558.0  2.547945     37.85   \n",
      "4      3.8462      52.0  6.281853   1.081081       565.0  2.181467     37.85   \n",
      "...       ...       ...       ...        ...         ...       ...       ...   \n",
      "20635  1.5603      25.0  5.045455   1.133333       845.0  2.560606     39.48   \n",
      "20636  2.5568      18.0  6.114035   1.315789       356.0  3.122807     39.49   \n",
      "20637  1.7000      17.0  5.205543   1.120092      1007.0  2.325635     39.43   \n",
      "20638  1.8672      18.0  5.329513   1.171920       741.0  2.123209     39.43   \n",
      "20639  2.3886      16.0  5.254717   1.162264      1387.0  2.616981     39.37   \n",
      "\n",
      "       Longitude  MedHouseVal  \n",
      "0        -122.23        4.526  \n",
      "1        -122.22        3.585  \n",
      "2        -122.24        3.521  \n",
      "3        -122.25        3.413  \n",
      "4        -122.25        3.422  \n",
      "...          ...          ...  \n",
      "20635    -121.09        0.781  \n",
      "20636    -121.21        0.771  \n",
      "20637    -121.22        0.923  \n",
      "20638    -121.32        0.847  \n",
      "20639    -121.24        0.894  \n",
      "\n",
      "[20640 rows x 9 columns], 'target_names': ['MedHouseVal'], 'feature_names': ['MedInc', 'HouseAge', 'AveRooms', 'AveBedrms', 'Population', 'AveOccup', 'Latitude', 'Longitude'], 'DESCR': '.. _california_housing_dataset:\\n\\nCalifornia Housing dataset\\n--------------------------\\n\\n**Data Set Characteristics:**\\n\\n    :Number of Instances: 20640\\n\\n    :Number of Attributes: 8 numeric, predictive attributes and the target\\n\\n    :Attribute Information:\\n        - MedInc        median income in block group\\n        - HouseAge      median house age in block group\\n        - AveRooms      average number of rooms per household\\n        - AveBedrms     average number of bedrooms per household\\n        - Population    block group population\\n        - AveOccup      average number of household members\\n        - Latitude      block group latitude\\n        - Longitude     block group longitude\\n\\n    :Missing Attribute Values: None\\n\\nThis dataset was obtained from the StatLib repository.\\nhttps://www.dcc.fc.up.pt/~ltorgo/Regression/cal_housing.html\\n\\nThe target variable is the median house value for California districts,\\nexpressed in hundreds of thousands of dollars ($100,000).\\n\\nThis dataset was derived from the 1990 U.S. census, using one row per census\\nblock group. A block group is the smallest geographical unit for which the U.S.\\nCensus Bureau publishes sample data (a block group typically has a population\\nof 600 to 3,000 people).\\n\\nA household is a group of people residing within a home. Since the average\\nnumber of rooms and bedrooms in this dataset are provided per household, these\\ncolumns may take surprisingly large values for block groups with few households\\nand many empty houses, such as vacation resorts.\\n\\nIt can be downloaded/loaded using the\\n:func:`sklearn.datasets.fetch_california_housing` function.\\n\\n.. topic:: References\\n\\n    - Pace, R. Kelley and Ronald Barry, Sparse Spatial Autoregressions,\\n      Statistics and Probability Letters, 33 (1997) 291-297\\n'}\n"
     ]
    }
   ],
   "source": [
    "from sklearn.datasets import fetch_california_housing \n",
    "ds = fetch_california_housing(as_frame=True)\n",
    "print(ds)"
   ]
  },
  {
   "cell_type": "markdown",
   "id": "4ce2c813",
   "metadata": {},
   "source": [
    "### Задание 8"
   ]
  },
  {
   "cell_type": "code",
   "execution_count": 16,
   "id": "1281f789",
   "metadata": {},
   "outputs": [
    {
     "name": "stdout",
     "output_type": "stream",
     "text": [
      "<class 'pandas.core.frame.DataFrame'>\n",
      "RangeIndex: 20640 entries, 0 to 20639\n",
      "Data columns (total 8 columns):\n",
      " #   Column      Non-Null Count  Dtype  \n",
      "---  ------      --------------  -----  \n",
      " 0   MedInc      20640 non-null  float64\n",
      " 1   HouseAge    20640 non-null  float64\n",
      " 2   AveRooms    20640 non-null  float64\n",
      " 3   AveBedrms   20640 non-null  float64\n",
      " 4   Population  20640 non-null  float64\n",
      " 5   AveOccup    20640 non-null  float64\n",
      " 6   Latitude    20640 non-null  float64\n",
      " 7   Longitude   20640 non-null  float64\n",
      "dtypes: float64(8)\n",
      "memory usage: 1.3 MB\n"
     ]
    }
   ],
   "source": [
    "ds.data.info()"
   ]
  },
  {
   "cell_type": "markdown",
   "id": "85f4570e",
   "metadata": {},
   "source": [
    "### Задание 9"
   ]
  },
  {
   "cell_type": "code",
   "execution_count": 17,
   "id": "a4ccbc3d",
   "metadata": {},
   "outputs": [
    {
     "data": {
      "text/plain": [
       "MedInc        0\n",
       "HouseAge      0\n",
       "AveRooms      0\n",
       "AveBedrms     0\n",
       "Population    0\n",
       "AveOccup      0\n",
       "Latitude      0\n",
       "Longitude     0\n",
       "dtype: int64"
      ]
     },
     "execution_count": 17,
     "metadata": {},
     "output_type": "execute_result"
    }
   ],
   "source": [
    "ds.data.isna().sum()"
   ]
  },
  {
   "cell_type": "markdown",
   "id": "b1b95ef7",
   "metadata": {},
   "source": [
    "### Задание 10"
   ]
  },
  {
   "cell_type": "code",
   "execution_count": 5,
   "id": "c0da4599",
   "metadata": {},
   "outputs": [
    {
     "name": "stdout",
     "output_type": "stream",
     "text": [
      "       MedInc  HouseAge  AveRooms  AveBedrms  Population    AveOccup  \\\n",
      "460    1.4012      52.0  3.105714   1.060000      3337.0    9.534286   \n",
      "4131   3.5349      52.0  4.646119   1.047945      2589.0    5.910959   \n",
      "4440   2.6806      52.0  4.806283   1.057592      3062.0    4.007853   \n",
      "5986   1.8750      52.0  4.500000   1.206349      2688.0   21.333333   \n",
      "7369   3.1901      52.0  4.730942   1.017937      3731.0    4.182735   \n",
      "8227   2.3305      52.0  3.488860   1.170380      3018.0    3.955439   \n",
      "13034  6.1359      52.0  8.275862   1.517241      6675.0  230.172414   \n",
      "15634  1.8295      52.0  2.628169   1.053521      2957.0    4.164789   \n",
      "15652  0.9000      52.0  2.237474   1.053535      3260.0    2.237474   \n",
      "15657  2.5166      52.0  2.839075   1.184049      3436.0    1.621520   \n",
      "15659  1.7240      52.0  2.278566   1.082348      4518.0    1.780142   \n",
      "15795  2.5755      52.0  3.402576   1.058776      2619.0    2.108696   \n",
      "15868  2.8135      52.0  4.584329   1.041169      2987.0    3.966799   \n",
      "\n",
      "       Latitude  Longitude  \n",
      "460       37.87    -122.26  \n",
      "4131      34.13    -118.20  \n",
      "4440      34.08    -118.21  \n",
      "5986      34.10    -117.71  \n",
      "7369      33.97    -118.21  \n",
      "8227      33.78    -118.20  \n",
      "13034     38.69    -121.15  \n",
      "15634     37.80    -122.41  \n",
      "15652     37.80    -122.41  \n",
      "15657     37.79    -122.41  \n",
      "15659     37.79    -122.41  \n",
      "15795     37.77    -122.42  \n",
      "15868     37.76    -122.41  \n"
     ]
    }
   ],
   "source": [
    "data = ds.data\n",
    "result = data.loc[(data['HouseAge'] > 50) & (data['Population'] > 2500)]\n",
    "print(result)"
   ]
  },
  {
   "cell_type": "markdown",
   "id": "b687bc99",
   "metadata": {},
   "source": [
    "### Задание 11"
   ]
  },
  {
   "cell_type": "code",
   "execution_count": 16,
   "id": "eabaae00",
   "metadata": {},
   "outputs": [
    {
     "name": "stdout",
     "output_type": "stream",
     "text": [
      "Минимальная: 0.4999, Максимальная: 15.0001\n"
     ]
    }
   ],
   "source": [
    "print(\"Минимальная: {0}, Максимальная: {1}\".format(data['MedInc'].min(), data['MedInc'].max()))"
   ]
  },
  {
   "cell_type": "markdown",
   "id": "4bc49e69",
   "metadata": {},
   "source": [
    "### Задание 12"
   ]
  },
  {
   "cell_type": "code",
   "execution_count": 23,
   "id": "0802052b",
   "metadata": {},
   "outputs": [
    {
     "data": {
      "text/plain": [
       "MedInc           3.870671\n",
       "HouseAge        28.639486\n",
       "AveRooms         5.429000\n",
       "AveBedrms        1.096675\n",
       "Population    1425.476744\n",
       "AveOccup         3.070655\n",
       "Latitude        35.631861\n",
       "Longitude     -119.569704\n",
       "dtype: float64"
      ]
     },
     "execution_count": 23,
     "metadata": {},
     "output_type": "execute_result"
    }
   ],
   "source": [
    "def return_mean_value(column):\n",
    "    return column.mean()\n",
    "\n",
    "data.apply(return_mean_value)\n"
   ]
  },
  {
   "cell_type": "markdown",
   "id": "209f8a23",
   "metadata": {},
   "source": [
    "### Задание 1.*"
   ]
  },
  {
   "cell_type": "code",
   "execution_count": 1,
   "id": "db382edd",
   "metadata": {},
   "outputs": [
    {
     "name": "stdout",
     "output_type": "stream",
     "text": [
      "Результат:\n",
      ". --. --- .-. \n",
      "--. --- …- -. --- \n"
     ]
    }
   ],
   "source": [
    "morze = {'a': '.-', 'b': '-…', 'c': '-.-.', 'd': '-..',\n",
    " 'e': '.', 'f': '..-.', 'g': '--.', 'h': '….',\n",
    " 'i': '..', 'j': '.---', 'k': '-.-', 'l': '.-..',\n",
    " 'm': '--', 'n': '-.', 'o': '---', 'p': '.--.',\n",
    " 'q': '--.-', 'r': '.-.', 's': '…', 't': '-',\n",
    " 'u': '..-', 'v': '…-', 'w': '.--', 'x': '-..-',\n",
    " 'y': '-.--', 'z': '--..'} \n",
    "\n",
    "def main():\n",
    "    enter_line = str(input(\"Введите сообщение для кодирования:\\n\"))\n",
    "    result = \"\"\n",
    "    for i in enter_line:\n",
    "        if i == \" \":\n",
    "            result += \"\\n\"\n",
    "        else:\n",
    "            result += morze[i.lower()] + \" \"\n",
    "    return result\n",
    "\n",
    "\n",
    "if __name__ == \"__main__\":\n",
    "    print(\"Результат:\\n\" + str(main()))  "
   ]
  },
  {
   "cell_type": "markdown",
   "id": "536a2790",
   "metadata": {},
   "source": [
    "### Задание 2.*"
   ]
  },
  {
   "cell_type": "code",
   "execution_count": 1,
   "id": "f68bc0b9",
   "metadata": {
    "scrolled": false
   },
   "outputs": [
    {
     "name": "stdout",
     "output_type": "stream",
     "text": [
      "\n",
      "Выберите действие:\n",
      "* name - добавить имя в БД\n",
      "* base - вывести список пользователей в БД\n",
      "* stop - прекратить работу\n",
      "\n"
     ]
    }
   ],
   "source": [
    "data = []\n",
    "menu_msg = \"\"\"\n",
    "Выберите действие:\n",
    "* name - добавить имя в БД\n",
    "* base - вывести список пользователей в БД\n",
    "* stop - прекратить работу\n",
    "\"\"\"\n",
    "#TODO: Revork generate and check method\n",
    "\n",
    "def split_number(text):\n",
    "    value = list(text)\n",
    "    number = \"\"\n",
    "    for i in range(len(value), 0, -1):\n",
    "        try:\n",
    "            a = int(value[i])\n",
    "            number += value[i]\n",
    "        except:\n",
    "            pass\n",
    "    return number\n",
    "\n",
    "def check_name(name):\n",
    "    if name not in data:\n",
    "        return True\n",
    "    else:\n",
    "        return False\n",
    "        \n",
    "def generate_name(old_name):\n",
    "    pass\n",
    "#     number = split_number(old_name)\n",
    "#     if len(number) > 0:\n",
    "#         new_number = int(number[::-1]) + 1\n",
    "#         new_name = old_name[:-len(number)] + str(new_number)\n",
    "#     else:\n",
    "#         new_number = 1\n",
    "#         new_name = old_name + str(new_number)\n",
    "    \n",
    "#     if check_name(new_name) is False:\n",
    "#         generate_name(new_name)\n",
    "#     else:\n",
    "#         print(new_name)\n",
    "#         return new_name\n",
    "        \n",
    "def add_name():\n",
    "    new_name = str(input(\"Укажите имя для добавления в базу: \"))\n",
    "    if check_name(new_name) is False:\n",
    "        data.append(new_name)\n",
    "    else:\n",
    "        name = generate_name(new_name)\n",
    "        data.append(name)\n",
    "    print(data)\n",
    "\n",
    "def base_list():\n",
    "    line = \"\"\n",
    "    for e in data:\n",
    "        line += \"* \" + e + \"\\n\" \n",
    "    print(line)\n",
    "    \n",
    "def main():\n",
    "    print(menu_msg)\n",
    "    while True:    \n",
    "        _ = str(input(\"Действие: \"))\n",
    "        \n",
    "        if _ == \"name\":\n",
    "            add_name()\n",
    "        elif _ == \"base\":\n",
    "            base_list()\n",
    "        elif _ == \"stop\":\n",
    "            break\n",
    "        else:\n",
    "            print(\"Ошибка, нету такого действия!\\n\")\n",
    "\n",
    "\n",
    "if __name__ == \"__main__\":\n",
    "    main()"
   ]
  },
  {
   "cell_type": "markdown",
   "id": "a39a53c3",
   "metadata": {},
   "source": [
    "### Задание 3.*"
   ]
  },
  {
   "cell_type": "code",
   "execution_count": 42,
   "id": "d59594ee",
   "metadata": {},
   "outputs": [
    {
     "name": "stdout",
     "output_type": "stream",
     "text": [
      "Хранилище: {'test file.py': ['x', 'w', 'r'], 'python.exe': ['r']}\n",
      "Файл test file.py: OK\n",
      "Файл python.exe: Acess denied\n",
      "\n"
     ]
    }
   ],
   "source": [
    "data = {}\n",
    "\n",
    "def conrol_access():\n",
    "    n = int(input(\"Введите количество запросов: \"))\n",
    "    result = \"\"\n",
    "    for _ in range(0, n):\n",
    "        answer = \"\"\n",
    "        request = str(input(\"Введите запрос: \"))\n",
    "        acess_type = request[:request.find(\" \")]\n",
    "        file_name = request[len(acess_type) + 1:]\n",
    "        if file_name in data.keys():\n",
    "            if acess_type == \"write\" and \"w\" in data[file_name]:\n",
    "                answer = \"OK\"\n",
    "            elif acess_type == \"read\" and \"r\" in data[file_name]:\n",
    "                answer = \"OK\"\n",
    "            elif acess_type == \"execute\" and \"x\" in data[file_name]:\n",
    "                answer = \"OK\"\n",
    "            else:\n",
    "                answer = \"Acess denied\"\n",
    "        result += \"Файл {0}: {1}\\n\".format(file_name, answer)\n",
    "    return result\n",
    "\n",
    "def add_files():\n",
    "    n = int(input(\"Введите количество файлов: \"))\n",
    "    for _ in range(0, n):\n",
    "        new_value = str(input())\n",
    "        file_name = new_value[:new_value.find(' ', new_value.find('.'))]\n",
    "        permissions = new_value[len(file_name) + 1:].split(\" \")\n",
    "        data[file_name] = permissions\n",
    "\n",
    "def main():\n",
    "    add_files()\n",
    "    print(str(\"Хранилище: {0}\").format(data))\n",
    "    print(conrol_access())\n",
    "\n",
    "if __name__ == \"__main__\":\n",
    "    main()"
   ]
  }
 ],
 "metadata": {
  "kernelspec": {
   "display_name": "Python 3 (ipykernel)",
   "language": "python",
   "name": "python3"
  },
  "language_info": {
   "codemirror_mode": {
    "name": "ipython",
    "version": 3
   },
   "file_extension": ".py",
   "mimetype": "text/x-python",
   "name": "python",
   "nbconvert_exporter": "python",
   "pygments_lexer": "ipython3",
   "version": "3.11.4"
  }
 },
 "nbformat": 4,
 "nbformat_minor": 5
}
