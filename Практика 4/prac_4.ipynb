{
 "cells": [
  {
   "cell_type": "markdown",
   "metadata": {},
   "source": [
    "# Практическая работа 4"
   ]
  },
  {
   "cell_type": "markdown",
   "metadata": {},
   "source": [
    "### Импорт библиотек"
   ]
  },
  {
   "cell_type": "code",
   "execution_count": 10,
   "metadata": {},
   "outputs": [],
   "source": [
    "import numpy as np\n",
    "import matplotlib.pyplot as plt\n",
    "import pandas as pd\n",
    "import scipy.stats as stats\n",
    "import statsmodels.api as sm\n",
    "from statsmodels.formula.api import ols\n",
    "from statsmodels.stats.multicomp import pairwise_tukeyhsd"
   ]
  },
  {
   "cell_type": "markdown",
   "metadata": {},
   "source": [
    "## Задание 1"
   ]
  },
  {
   "cell_type": "markdown",
   "metadata": {},
   "source": [
    "#### 1.1"
   ]
  },
  {
   "cell_type": "code",
   "execution_count": 3,
   "metadata": {},
   "outputs": [
    {
     "data": {
      "text/plain": [
       "-0.9999999999999998"
      ]
     },
     "execution_count": 3,
     "metadata": {},
     "output_type": "execute_result"
    }
   ],
   "source": [
    "st = np.array([80, 98, 75, 91, 78])\n",
    "gr = np.array([100, 82, 105, 89, 102])\n",
    "\n",
    "np.corrcoef(st, gr)[0, 1]"
   ]
  },
  {
   "cell_type": "markdown",
   "metadata": {},
   "source": [
    "#### 1.2"
   ]
  },
  {
   "cell_type": "code",
   "execution_count": 6,
   "metadata": {},
   "outputs": [
    {
     "data": {
      "text/plain": [
       "<matplotlib.collections.PathCollection at 0x19e636af950>"
      ]
     },
     "execution_count": 6,
     "metadata": {},
     "output_type": "execute_result"
    },
    {
     "data": {
      "image/png": "[encoded data removed]",
      "text/plain": [
       "<Figure size 640x480 with 1 Axes>"
      ]
     },
     "metadata": {},
     "output_type": "display_data"
    }
   ],
   "source": [
    "plt.grid(True)\n",
    "plt.title(\"Диаграмма рассеяния\")\n",
    "plt.xlabel(\"Улица\")\n",
    "plt.ylabel(\"Гараж\")\n",
    "\n",
    "plt.scatter(st, gr, marker='o', color=\"crimson\")"
   ]
  },
  {
   "cell_type": "markdown",
   "metadata": {},
   "source": [
    "## Задание 2"
   ]
  },
  {
   "cell_type": "markdown",
   "metadata": {},
   "source": [
    "#### 2.1"
   ]
  },
  {
   "cell_type": "code",
   "execution_count": null,
   "metadata": {},
   "outputs": [],
   "source": [
    "data = pd.read_csv('')"
   ]
  },
  {
   "cell_type": "markdown",
   "metadata": {},
   "source": [
    "## Задание 3"
   ]
  },
  {
   "cell_type": "code",
   "execution_count": 4,
   "metadata": {},
   "outputs": [
    {
     "name": "stdout",
     "output_type": "stream",
     "text": [
      "<class 'pandas.core.frame.DataFrame'>\n",
      "RangeIndex: 1338 entries, 0 to 1337\n",
      "Data columns (total 7 columns):\n",
      " #   Column    Non-Null Count  Dtype  \n",
      "---  ------    --------------  -----  \n",
      " 0   age       1338 non-null   int64  \n",
      " 1   sex       1338 non-null   object \n",
      " 2   bmi       1338 non-null   float64\n",
      " 3   children  1338 non-null   int64  \n",
      " 4   smoker    1338 non-null   object \n",
      " 5   region    1338 non-null   object \n",
      " 6   charges   1338 non-null   float64\n",
      "dtypes: float64(2), int64(2), object(3)\n",
      "memory usage: 73.3+ KB\n",
      "Список уникальных регионов: ['southwest' 'southeast' 'northwest' 'northeast']\n"
     ]
    }
   ],
   "source": [
    "data = pd.read_csv('insurance.csv')\n",
    "\n",
    "data.info()\n",
    "\n",
    "regions = data.region.unique()\n",
    "print(f\"Список уникальных регионов: {regions}\")"
   ]
  },
  {
   "cell_type": "markdown",
   "metadata": {},
   "source": [
    "#### 3.1"
   ]
  },
  {
   "cell_type": "code",
   "execution_count": 6,
   "metadata": {},
   "outputs": [
    {
     "name": "stdout",
     "output_type": "stream",
     "text": [
      "Тест ANOVA через scipy:\n",
      "F_onewayResult(statistic=39.49505720170283, pvalue=1.881838913929143e-24)\n"
     ]
    }
   ],
   "source": [
    "groups = data.groupby('region').groups\n",
    "\n",
    "southwest = data['bmi'][groups['southwest']]\n",
    "southeast = data['bmi'][groups['southeast']]\n",
    "northwest = data['bmi'][groups['northwest']]\n",
    "northeast = data['bmi'][groups['northeast']]\n",
    "\n",
    "anova_scipy = stats.f_oneway(southwest, southeast, northwest, northeast)\n",
    "print(f\"Тест ANOVA через scipy:\\n{anova_scipy}\")"
   ]
  },
  {
   "cell_type": "markdown",
   "metadata": {},
   "source": [
    "#### 3.2"
   ]
  },
  {
   "cell_type": "code",
   "execution_count": 34,
   "metadata": {},
   "outputs": [
    {
     "name": "stdout",
     "output_type": "stream",
     "text": [
      "Тест ANOVA через statsmodels:\n",
      "                sum_sq      df          F        PR(>F)\n",
      "region     4055.880631     3.0  39.495057  1.881839e-24\n",
      "Residual  45664.319755  1334.0        NaN           NaN\n"
     ]
    }
   ],
   "source": [
    "model = ols('bmi ~ region', data=data).fit()\n",
    "anova_stats = sm.stats.anova_lm(model, typ = 2)\n",
    "print(f\"Тест ANOVA через statsmodels:\\n{anova_stats}\")"
   ]
  },
  {
   "cell_type": "markdown",
   "metadata": {},
   "source": [
    "#### 3.3"
   ]
  },
  {
   "cell_type": "code",
   "execution_count": 8,
   "metadata": {},
   "outputs": [
    {
     "name": "stdout",
     "output_type": "stream",
     "text": [
      "R1: southwest, R2 southeast\n",
      "Результат: Ttest_indResult(statistic=-5.908373821545118, pvalue=5.4374009639680636e-09)\n",
      "R1: southwest, R2 northwest\n",
      "Результат: Ttest_indResult(statistic=3.2844171500398582, pvalue=0.001076958496307695)\n",
      "R1: southwest, R2 northeast\n",
      "Результат: Ttest_indResult(statistic=3.1169000930045923, pvalue=0.0019086161671573072)\n",
      "R1: southeast, R2 northwest\n",
      "Результат: Ttest_indResult(statistic=9.25649013552548, pvalue=2.643571405230106e-19)\n",
      "R1: southeast, R2 northeast\n",
      "Результат: Ttest_indResult(statistic=8.790905562598699, pvalue=1.186014937424813e-17)\n",
      "R1: northwest, R2 northeast\n",
      "Результат: Ttest_indResult(statistic=0.060307727183293185, pvalue=0.951929170821864)\n"
     ]
    }
   ],
   "source": [
    "regions_stu = []\n",
    "for r1 in range(3):\n",
    "    for r2 in range(r1+1, 4):\n",
    "        regions_stu.append((regions[r1], regions[r2]))\n",
    "\n",
    "for r1, r2 in regions_stu:\n",
    "    test_result = stats.ttest_ind(data['bmi'][groups[r1]], data['bmi'][groups[r2]])\n",
    "    print(f\"R1: {r1}, R2 {r2}\\nРезультат: {test_result}\")"
   ]
  },
  {
   "cell_type": "markdown",
   "metadata": {},
   "source": [
    "#### 3.4"
   ]
  },
  {
   "cell_type": "code",
   "execution_count": 11,
   "metadata": {},
   "outputs": [
    {
     "data": {
      "text/html": [
       "<table class=\"simpletable\">\n",
       "<caption>Multiple Comparison of Means - Tukey HSD, FWER=0.05</caption>\n",
       "<tr>\n",
       "   <th>group1</th>    <th>group2</th>   <th>meandiff</th>  <th>p-adj</th>  <th>lower</th>   <th>upper</th>  <th>reject</th>\n",
       "</tr>\n",
       "<tr>\n",
       "  <td>northeast</td> <td>northwest</td>  <td>0.0263</td>  <td>0.9999</td> <td>-1.1552</td> <td>1.2078</td>   <td>False</td>\n",
       "</tr>\n",
       "<tr>\n",
       "  <td>northeast</td> <td>southeast</td>  <td>4.1825</td>    <td>0.0</td>   <td>3.033</td>   <td>5.332</td>   <td>True</td> \n",
       "</tr>\n",
       "<tr>\n",
       "  <td>northeast</td> <td>southwest</td>  <td>1.4231</td>  <td>0.0107</td> <td>0.2416</td>  <td>2.6046</td>   <td>True</td> \n",
       "</tr>\n",
       "<tr>\n",
       "  <td>northwest</td> <td>southeast</td>  <td>4.1562</td>    <td>0.0</td>  <td>3.0077</td>  <td>5.3047</td>   <td>True</td> \n",
       "</tr>\n",
       "<tr>\n",
       "  <td>northwest</td> <td>southwest</td>  <td>1.3968</td>  <td>0.0127</td> <td>0.2162</td>  <td>2.5774</td>   <td>True</td> \n",
       "</tr>\n",
       "<tr>\n",
       "  <td>southeast</td> <td>southwest</td>  <td>-2.7594</td>   <td>0.0</td>  <td>-3.9079</td> <td>-1.6108</td>  <td>True</td> \n",
       "</tr>\n",
       "</table>"
      ],
      "text/latex": [
       "\\begin{center}\n",
       "\\begin{tabular}{ccccccc}\n",
       "\\toprule\n",
       "\\textbf{group1} & \\textbf{group2} & \\textbf{meandiff} & \\textbf{p-adj} & \\textbf{lower} & \\textbf{upper} & \\textbf{reject}  \\\\\n",
       "\\midrule\n",
       "   northeast    &    northwest    &       0.0263      &     0.9999     &    -1.1552     &     1.2078     &      False       \\\\\n",
       "   northeast    &    southeast    &       4.1825      &      0.0       &     3.033      &     5.332      &       True       \\\\\n",
       "   northeast    &    southwest    &       1.4231      &     0.0107     &     0.2416     &     2.6046     &       True       \\\\\n",
       "   northwest    &    southeast    &       4.1562      &      0.0       &     3.0077     &     5.3047     &       True       \\\\\n",
       "   northwest    &    southwest    &       1.3968      &     0.0127     &     0.2162     &     2.5774     &       True       \\\\\n",
       "   southeast    &    southwest    &      -2.7594      &      0.0       &    -3.9079     &    -1.6108     &       True       \\\\\n",
       "\\bottomrule\n",
       "\\end{tabular}\n",
       "%\\caption{Multiple Comparison of Means - Tukey HSD, FWER=0.05}\n",
       "\\end{center}"
      ],
      "text/plain": [
       "<class 'statsmodels.iolib.table.SimpleTable'>"
      ]
     },
     "execution_count": 11,
     "metadata": {},
     "output_type": "execute_result"
    },
    {
     "data": {
      "image/png": "[encoded data removed]",
      "text/plain": [
       "<Figure size 1000x600 with 1 Axes>"
      ]
     },
     "metadata": {},
     "output_type": "display_data"
    }
   ],
   "source": [
    "tukey = pairwise_tukeyhsd(endog= data['bmi'], groups = data['region'], alpha=0.05)\n",
    "tukey.plot_simultaneous()\n",
    "plt.vlines(x = 49.57, ymin= -0.5, ymax = 4.5, color = 'green')\n",
    "tukey.summary()"
   ]
  },
  {
   "cell_type": "markdown",
   "metadata": {},
   "source": [
    "#### 3.5"
   ]
  },
  {
   "cell_type": "code",
   "execution_count": 14,
   "metadata": {},
   "outputs": [
    {
     "name": "stdout",
     "output_type": "stream",
     "text": [
      "Двухфакторный тест ANOVA через statsmodels:\n",
      "                        sum_sq      df          F        PR(>F)\n",
      "C(region)          4034.975135     3.0  39.398134  2.163195e-24\n",
      "C(sex)               86.007035     1.0   2.519359  1.126940e-01\n",
      "C(region):C(sex)    174.157808     3.0   1.700504  1.650655e-01\n",
      "Residual          45404.154911  1330.0        NaN           NaN\n"
     ]
    }
   ],
   "source": [
    "model2 = ols('bmi ~ C(region) + C(sex) + C(region):C(sex)', data=data).fit()\n",
    "anova_stats2 = sm.stats.anova_lm(model2, typ=2)\n",
    "print(f\"Двухфакторный тест ANOVA через statsmodels:\\n{anova_stats2}\")"
   ]
  },
  {
   "cell_type": "markdown",
   "metadata": {},
   "source": [
    "#### 3.6"
   ]
  },
  {
   "cell_type": "code",
   "execution_count": 17,
   "metadata": {},
   "outputs": [
    {
     "data": {
      "text/html": [
       "<table class=\"simpletable\">\n",
       "<caption>Multiple Comparison of Means - Tukey HSD, FWER=0.05</caption>\n",
       "<tr>\n",
       "        <th>group1</th>             <th>group2</th>       <th>meandiff</th>  <th>p-adj</th>  <th>lower</th>   <th>upper</th>  <th>reject</th>\n",
       "</tr>\n",
       "<tr>\n",
       "  <td>northeast / female</td>  <td>northeast / male</td>   <td>-0.2998</td> <td>0.9998</td> <td>-2.2706</td> <td>1.6711</td>   <td>False</td>\n",
       "</tr>\n",
       "<tr>\n",
       "  <td>northeast / female</td> <td>northwest / female</td>  <td>-0.0464</td>   <td>1.0</td>  <td>-2.0142</td> <td>1.9215</td>   <td>False</td>\n",
       "</tr>\n",
       "<tr>\n",
       "  <td>northeast / female</td>  <td>northwest / male</td>   <td>-0.2042</td>   <td>1.0</td>  <td>-2.1811</td> <td>1.7728</td>   <td>False</td>\n",
       "</tr>\n",
       "<tr>\n",
       "  <td>northeast / female</td> <td>southeast / female</td>  <td>3.3469</td>    <td>0.0</td>   <td>1.41</td>   <td>5.2839</td>   <td>True</td> \n",
       "</tr>\n",
       "<tr>\n",
       "  <td>northeast / female</td>  <td>southeast / male</td>   <td>4.6657</td>    <td>0.0</td>  <td>2.7634</td>   <td>6.568</td>   <td>True</td> \n",
       "</tr>\n",
       "<tr>\n",
       "  <td>northeast / female</td> <td>southwest / female</td>  <td>0.7362</td>  <td>0.9497</td> <td>-1.2377</td>  <td>2.71</td>    <td>False</td>\n",
       "</tr>\n",
       "<tr>\n",
       "  <td>northeast / female</td>  <td>southwest / male</td>   <td>1.8051</td>  <td>0.1007</td> <td>-0.1657</td>  <td>3.776</td>   <td>False</td>\n",
       "</tr>\n",
       "<tr>\n",
       "   <td>northeast / male</td>  <td>northwest / female</td>  <td>0.2534</td>  <td>0.9999</td> <td>-1.7083</td> <td>2.2152</td>   <td>False</td>\n",
       "</tr>\n",
       "<tr>\n",
       "   <td>northeast / male</td>   <td>northwest / male</td>   <td>0.0956</td>    <td>1.0</td>  <td>-1.8752</td> <td>2.0665</td>   <td>False</td>\n",
       "</tr>\n",
       "<tr>\n",
       "   <td>northeast / male</td>  <td>southeast / female</td>  <td>3.6467</td>    <td>0.0</td>  <td>1.7159</td>  <td>5.5775</td>   <td>True</td> \n",
       "</tr>\n",
       "<tr>\n",
       "   <td>northeast / male</td>   <td>southeast / male</td>   <td>4.9655</td>    <td>0.0</td>  <td>3.0695</td>  <td>6.8614</td>   <td>True</td> \n",
       "</tr>\n",
       "<tr>\n",
       "   <td>northeast / male</td>  <td>southwest / female</td>   <td>1.036</td>  <td>0.7515</td> <td>-0.9318</td> <td>3.0037</td>   <td>False</td>\n",
       "</tr>\n",
       "<tr>\n",
       "   <td>northeast / male</td>   <td>southwest / male</td>   <td>2.1049</td>  <td>0.0258</td> <td>0.1402</td>  <td>4.0697</td>   <td>True</td> \n",
       "</tr>\n",
       "<tr>\n",
       "  <td>northwest / female</td>  <td>northwest / male</td>   <td>-0.1578</td>   <td>1.0</td>  <td>-2.1257</td>  <td>1.81</td>    <td>False</td>\n",
       "</tr>\n",
       "<tr>\n",
       "  <td>northwest / female</td> <td>southeast / female</td>  <td>3.3933</td>    <td>0.0</td>  <td>1.4656</td>   <td>5.321</td>   <td>True</td> \n",
       "</tr>\n",
       "<tr>\n",
       "  <td>northwest / female</td>  <td>southeast / male</td>    <td>4.712</td>    <td>0.0</td>  <td>2.8192</td>  <td>6.6049</td>   <td>True</td> \n",
       "</tr>\n",
       "<tr>\n",
       "  <td>northwest / female</td> <td>southwest / female</td>  <td>0.7825</td>  <td>0.9294</td> <td>-1.1822</td> <td>2.7473</td>   <td>False</td>\n",
       "</tr>\n",
       "<tr>\n",
       "  <td>northwest / female</td>  <td>southwest / male</td>   <td>1.8515</td>  <td>0.0806</td> <td>-0.1103</td> <td>3.8132</td>   <td>False</td>\n",
       "</tr>\n",
       "<tr>\n",
       "   <td>northwest / male</td>  <td>southeast / female</td>  <td>3.5511</td>    <td>0.0</td>  <td>1.6141</td>  <td>5.4881</td>   <td>True</td> \n",
       "</tr>\n",
       "<tr>\n",
       "   <td>northwest / male</td>   <td>southeast / male</td>   <td>4.8698</td>    <td>0.0</td>  <td>2.9676</td>  <td>6.7721</td>   <td>True</td> \n",
       "</tr>\n",
       "<tr>\n",
       "   <td>northwest / male</td>  <td>southwest / female</td>  <td>0.9403</td>  <td>0.8354</td> <td>-1.0335</td> <td>2.9142</td>   <td>False</td>\n",
       "</tr>\n",
       "<tr>\n",
       "   <td>northwest / male</td>   <td>southwest / male</td>   <td>2.0093</td>   <td>0.042</td> <td>0.0385</td>  <td>3.9801</td>   <td>True</td> \n",
       "</tr>\n",
       "<tr>\n",
       "  <td>southeast / female</td>  <td>southeast / male</td>   <td>1.3187</td>  <td>0.3823</td> <td>-0.542</td>  <td>3.1795</td>   <td>False</td>\n",
       "</tr>\n",
       "<tr>\n",
       "  <td>southeast / female</td> <td>southwest / female</td>  <td>-2.6108</td> <td>0.0011</td> <td>-4.5446</td> <td>-0.6769</td>  <td>True</td> \n",
       "</tr>\n",
       "<tr>\n",
       "  <td>southeast / female</td>  <td>southwest / male</td>   <td>-1.5418</td> <td>0.2304</td> <td>-3.4726</td>  <td>0.389</td>   <td>False</td>\n",
       "</tr>\n",
       "<tr>\n",
       "   <td>southeast / male</td>  <td>southwest / female</td>  <td>-3.9295</td>   <td>0.0</td>  <td>-5.8286</td> <td>-2.0304</td>  <td>True</td> \n",
       "</tr>\n",
       "<tr>\n",
       "   <td>southeast / male</td>   <td>southwest / male</td>   <td>-2.8606</td> <td>0.0001</td> <td>-4.7565</td> <td>-0.9646</td>  <td>True</td> \n",
       "</tr>\n",
       "<tr>\n",
       "  <td>southwest / female</td>  <td>southwest / male</td>    <td>1.069</td>  <td>0.7201</td> <td>-0.8988</td> <td>3.0367</td>   <td>False</td>\n",
       "</tr>\n",
       "</table>"
      ],
      "text/latex": [
       "\\begin{center}\n",
       "\\begin{tabular}{ccccccc}\n",
       "\\toprule\n",
       " \\textbf{group1}   &  \\textbf{group2}   & \\textbf{meandiff} & \\textbf{p-adj} & \\textbf{lower} & \\textbf{upper} & \\textbf{reject}  \\\\\n",
       "\\midrule\n",
       "northeast / female &  northeast / male  &      -0.2998      &     0.9998     &    -2.2706     &     1.6711     &      False       \\\\\n",
       "northeast / female & northwest / female &      -0.0464      &      1.0       &    -2.0142     &     1.9215     &      False       \\\\\n",
       "northeast / female &  northwest / male  &      -0.2042      &      1.0       &    -2.1811     &     1.7728     &      False       \\\\\n",
       "northeast / female & southeast / female &       3.3469      &      0.0       &      1.41      &     5.2839     &       True       \\\\\n",
       "northeast / female &  southeast / male  &       4.6657      &      0.0       &     2.7634     &     6.568      &       True       \\\\\n",
       "northeast / female & southwest / female &       0.7362      &     0.9497     &    -1.2377     &      2.71      &      False       \\\\\n",
       "northeast / female &  southwest / male  &       1.8051      &     0.1007     &    -0.1657     &     3.776      &      False       \\\\\n",
       " northeast / male  & northwest / female &       0.2534      &     0.9999     &    -1.7083     &     2.2152     &      False       \\\\\n",
       " northeast / male  &  northwest / male  &       0.0956      &      1.0       &    -1.8752     &     2.0665     &      False       \\\\\n",
       " northeast / male  & southeast / female &       3.6467      &      0.0       &     1.7159     &     5.5775     &       True       \\\\\n",
       " northeast / male  &  southeast / male  &       4.9655      &      0.0       &     3.0695     &     6.8614     &       True       \\\\\n",
       " northeast / male  & southwest / female &       1.036       &     0.7515     &    -0.9318     &     3.0037     &      False       \\\\\n",
       " northeast / male  &  southwest / male  &       2.1049      &     0.0258     &     0.1402     &     4.0697     &       True       \\\\\n",
       "northwest / female &  northwest / male  &      -0.1578      &      1.0       &    -2.1257     &      1.81      &      False       \\\\\n",
       "northwest / female & southeast / female &       3.3933      &      0.0       &     1.4656     &     5.321      &       True       \\\\\n",
       "northwest / female &  southeast / male  &       4.712       &      0.0       &     2.8192     &     6.6049     &       True       \\\\\n",
       "northwest / female & southwest / female &       0.7825      &     0.9294     &    -1.1822     &     2.7473     &      False       \\\\\n",
       "northwest / female &  southwest / male  &       1.8515      &     0.0806     &    -0.1103     &     3.8132     &      False       \\\\\n",
       " northwest / male  & southeast / female &       3.5511      &      0.0       &     1.6141     &     5.4881     &       True       \\\\\n",
       " northwest / male  &  southeast / male  &       4.8698      &      0.0       &     2.9676     &     6.7721     &       True       \\\\\n",
       " northwest / male  & southwest / female &       0.9403      &     0.8354     &    -1.0335     &     2.9142     &      False       \\\\\n",
       " northwest / male  &  southwest / male  &       2.0093      &     0.042      &     0.0385     &     3.9801     &       True       \\\\\n",
       "southeast / female &  southeast / male  &       1.3187      &     0.3823     &     -0.542     &     3.1795     &      False       \\\\\n",
       "southeast / female & southwest / female &      -2.6108      &     0.0011     &    -4.5446     &    -0.6769     &       True       \\\\\n",
       "southeast / female &  southwest / male  &      -1.5418      &     0.2304     &    -3.4726     &     0.389      &      False       \\\\\n",
       " southeast / male  & southwest / female &      -3.9295      &      0.0       &    -5.8286     &    -2.0304     &       True       \\\\\n",
       " southeast / male  &  southwest / male  &      -2.8606      &     0.0001     &    -4.7565     &    -0.9646     &       True       \\\\\n",
       "southwest / female &  southwest / male  &       1.069       &     0.7201     &    -0.8988     &     3.0367     &      False       \\\\\n",
       "\\bottomrule\n",
       "\\end{tabular}\n",
       "%\\caption{Multiple Comparison of Means - Tukey HSD, FWER=0.05}\n",
       "\\end{center}"
      ],
      "text/plain": [
       "<class 'statsmodels.iolib.table.SimpleTable'>"
      ]
     },
     "execution_count": 17,
     "metadata": {},
     "output_type": "execute_result"
    },
    {
     "data": {
      "image/png": "[encoded data removed]",
      "text/plain": [
       "<Figure size 1000x600 with 1 Axes>"
      ]
     },
     "metadata": {},
     "output_type": "display_data"
    }
   ],
   "source": [
    "data['combination'] = data.region + \" / \" + data.sex\n",
    "tukey = pairwise_tukeyhsd(endog= data['bmi'], groups = data['combination'], alpha=0.05)\n",
    "tukey.plot_simultaneous()\n",
    "tukey.summary()"
   ]
  }
 ],
 "metadata": {
  "kernelspec": {
   "display_name": "base",
   "language": "python",
   "name": "python3"
  },
  "language_info": {
   "codemirror_mode": {
    "name": "ipython",
    "version": 3
   },
   "file_extension": ".py",
   "mimetype": "text/x-python",
   "name": "python",
   "nbconvert_exporter": "python",
   "pygments_lexer": "ipython3",
   "version": "3.11.4"
  }
 },
 "nbformat": 4,
 "nbformat_minor": 2
}
